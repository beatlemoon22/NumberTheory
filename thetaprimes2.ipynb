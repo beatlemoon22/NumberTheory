{
 "cells": [
  {
   "cell_type": "code",
   "execution_count": 10,
   "metadata": {},
   "outputs": [
    {
     "name": "stdout",
     "output_type": "stream",
     "text": [
      "[2, 3, 5, 7, 13, 17, 19, 23, 25, 35, 47, 49, 53, 59, 65, 83, 89, 95, 97, 109, 115, 125, 133, 137, 149, 157, 163, 167, 175, 179, 185, 187, 199, 203, 215, 227, 229, 233, 235, 245, 259, 263, 277, 283, 289, 293, 299, 313, 317, 319, 325, 329, 335, 347, 359, 389, 397, 409, 413, 415, 419, 433, 439, 443, 467, 469, 475, 485, 493, 515, 523, 527, 529, 545, 553, 557, 559, 563, 565, 577, 583, 595, 599, 607, 619, 623, 629, 643, 647, 653, 677, 679, 685, 689, 703, 709, 727, 733, 739, 749, 767, 773, 787, 797, 803, 815, 817, 823, 829, 833, 845, 857, 859, 863, 865, 875, 889, 895, 919, 935, 959, 979, 983, 985, 997]\n"
     ]
    }
   ],
   "source": [
    "import math\n",
    "import numpy\n",
    "import matplotlib\n",
    "\n",
    "def primeList(n, theta):\n",
    "    primes = [2]\n",
    "    boolean = True\n",
    "    for i in range(3, n):\n",
    "        boolean = True\n",
    "        #print(\"i=\" + str(i))\n",
    "        while boolean:\n",
    "            for d in primes:\n",
    "                #print(\"d=\" + str(d))\n",
    "                z = i % d\n",
    "                x = math.floor(d * theta) % d\n",
    "                if z != x:\n",
    "                    #print(str(i) + \" is prime to modulus \" + str(d))\n",
    "                    continue\n",
    "                else:\n",
    "                    #print(str(i) + \" is a multiple of \" + str(d))\n",
    "                    boolean = False  # i is composite\n",
    "                    break\n",
    "            if boolean:\n",
    "                primes.append(i)\n",
    "                #print(\"adding \" + str(i) + \" to primes\")\n",
    "                boolean = False\n",
    "                break\n",
    "    return primes\n",
    "\n",
    "print(primeList(1000,1/5))\n",
    "\n"
   ]
  },
  {
   "cell_type": "code",
   "execution_count": 5,
   "metadata": {},
   "outputs": [
    {
     "name": "stdout",
     "output_type": "stream",
     "text": [
      "0.13\n",
      "0.168\n"
     ]
    }
   ],
   "source": [
    "def computeAsy(n, theta):\n",
    "    primes = [2]\n",
    "    boolean = True\n",
    "    for i in range(3, n):\n",
    "        boolean = True\n",
    "        #print(\"i=\" + str(i))\n",
    "        while boolean:\n",
    "            for d in primes:\n",
    "                #print(\"d=\" + str(d))\n",
    "                z = i % d\n",
    "                x = math.floor(d * theta) % d\n",
    "                if z != x:\n",
    "                    #print(str(i) + \" is prime to modulus \" + str(d))\n",
    "                    continue\n",
    "                else:\n",
    "                    #print(str(i) + \" is a multiple of \" + str(d))\n",
    "                    boolean = False  # i is composite\n",
    "                    break\n",
    "            if boolean:\n",
    "                primes.append(i)\n",
    "                #print(\"adding \" + str(i) + \" to primes\")\n",
    "                boolean = False\n",
    "                break\n",
    "    a_n = len(primes)\n",
    "    return a_n/n\n",
    "print(computeAsy(1000,0.25))\n",
    "print(computeAsy(1000,0))"
   ]
  },
  {
   "cell_type": "code",
   "execution_count": 14,
   "metadata": {},
   "outputs": [
    {
     "name": "stdout",
     "output_type": "stream",
     "text": [
      "[1, 2, 3, 4, 5, 6, 7, 8, 9, 10, 11, 12, 13, 14, 15, 16, 17, 18, 19, 20, 21, 22, 23, 24, 25, 26, 27, 28, 29, 30, 31, 32, 33, 34, 35, 36, 37, 38, 39, 40, 41, 42, 43, 44, 45, 46, 47, 48, 49, 50, 51, 52, 53, 54, 55, 56, 57, 58, 59, 60, 61, 62, 63, 64, 65, 66, 67, 68, 69, 70, 71, 72, 73, 74, 75, 76, 77, 78, 79, 80, 81, 82, 83, 84, 85, 86, 87, 88, 89, 90, 91, 92, 93, 94, 95, 96, 97, 98, 99, 100]\n",
      "[  1   2   3   4   5   6   7   8   9  10  11  12  13  14  15  16  17  18\n",
      "  19  20  21  22  23  24  25  26  27  28  29  30  31  32  33  34  35  36\n",
      "  37  38  39  40  41  42  43  44  45  46  47  48  49  50  51  52  53  54\n",
      "  55  56  57  58  59  60  61  62  63  64  65  66  67  68  69  70  71  72\n",
      "  73  74  75  76  77  78  79  80  81  82  83  84  85  86  87  88  89  90\n",
      "  91  92  93  94  95  96  97  98  99 100]\n",
      "[1.         0.5        0.33333333 0.5        0.4        0.5\n",
      " 0.42857143 0.5        0.44444444 0.4        0.36363636 0.41666667\n",
      " 0.38461538 0.42857143 0.4        0.375      0.35294118 0.38888889\n",
      " 0.36842105 0.4        0.38095238 0.36363636 0.34782609 0.33333333\n",
      " 0.32       0.30769231 0.2962963  0.28571429 0.27586207 0.3\n",
      " 0.29032258 0.28125    0.27272727 0.26470588 0.25714286 0.25\n",
      " 0.24324324 0.26315789 0.25641026 0.25       0.24390244 0.26190476\n",
      " 0.25581395 0.27272727 0.26666667 0.26086957 0.25531915 0.25\n",
      " 0.24489796 0.24       0.23529412 0.23076923 0.22641509 0.22222222\n",
      " 0.21818182 0.21428571 0.21052632 0.20689655 0.20338983 0.21666667\n",
      " 0.21311475 0.22580645 0.22222222 0.21875    0.21538462 0.21212121\n",
      " 0.20895522 0.20588235 0.20289855 0.2        0.1971831  0.20833333\n",
      " 0.20547945 0.21621622 0.21333333 0.21052632 0.20779221 0.20512821\n",
      " 0.20253165 0.2        0.19753086 0.19512195 0.19277108 0.20238095\n",
      " 0.2        0.19767442 0.1954023  0.19318182 0.19101124 0.18888889\n",
      " 0.18681319 0.18478261 0.1827957  0.18085106 0.17894737 0.17708333\n",
      " 0.17525773 0.18367347 0.18181818 0.18      ]\n"
     ]
    }
   ],
   "source": [
    "import numpy as np\n",
    "x = []\n",
    "for i in range(1,101):\n",
    "    x.append(i)\n",
    "print(x)\n",
    "xx = np.array(x)\n",
    "print(xx)\n",
    "y=[]\n",
    "for i in range(1,101):\n",
    "    y.append(computeAsy(i,0.1))\n",
    "yy = np.array(y)\n",
    "print(yy)\n"
   ]
  },
  {
   "cell_type": "code",
   "execution_count": 15,
   "metadata": {},
   "outputs": [
    {
     "data": {
      "image/png": "[encoded data removed]",
      "text/plain": [
       "<Figure size 432x288 with 1 Axes>"
      ]
     },
     "metadata": {
      "needs_background": "light"
     },
     "output_type": "display_data"
    }
   ],
   "source": [
    "import numpy as np\n",
    "import matplotlib.pyplot as plt\n",
    "\n",
    "# Create data\n",
    "N = 1000\n",
    "\n",
    "colors = (0,0,0)\n",
    "area = np.pi*3\n",
    "\n",
    "# Plot\n",
    "plt.scatter(xx, yy, s=area, alpha=0.5)\n",
    "plt.title('Scatter plot pythonspot.com')\n",
    "plt.xlabel('x')\n",
    "plt.ylabel('y')\n",
    "plt.show()"
   ]
  },
  {
   "cell_type": "code",
   "execution_count": null,
   "metadata": {},
   "outputs": [],
   "source": []
  },
  {
   "cell_type": "code",
   "execution_count": null,
   "metadata": {},
   "outputs": [],
   "source": []
  }
 ],
 "metadata": {
  "kernelspec": {
   "display_name": "Python 3",
   "language": "python",
   "name": "python3"
  }
 },
 "nbformat": 4,
 "nbformat_minor": 2
}
